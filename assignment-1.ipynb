{
 "cells": [
  {
   "cell_type": "code",
   "execution_count": 1,
   "metadata": {},
   "outputs": [
    {
     "name": "stdout",
     "output_type": "stream",
     "text": [
      "hello sir this is my first python program\n",
      "hello sir this is my first python program\n",
      "hello sir this is my first python program\n",
      "hello sir this is my first python program\n",
      "hello sir this is my first python program\n",
      "hello sir this is my first python program\n"
     ]
    }
   ],
   "source": [
    "# 1> Install Jupyter notebook and run the first program and share the screenshot of the output.\n",
    "for r in range(1, 11, 1):\n",
    "    if r == 7:\n",
    "        break\n",
    "    else:\n",
    "        print(\"hello sir this is my first python program\")"
   ]
  },
  {
   "cell_type": "code",
   "execution_count": null,
   "metadata": {},
   "outputs": [],
   "source": []
  },
  {
   "cell_type": "code",
   "execution_count": null,
   "metadata": {},
   "outputs": [],
   "source": [
    "# 2> Write a program which will find all such numbers which are divisible by 7 but are not a multipleof 5,\n",
    "#between 2000 and 3200 (both included). The numbers obtained should be printed in acomma-separated sequence on a single line."
   ]
  },
  {
   "cell_type": "code",
   "execution_count": 22,
   "metadata": {},
   "outputs": [
    {
     "name": "stdout",
     "output_type": "stream",
     "text": [
      " i : 2002\n",
      " i : 2009\n",
      " i : 2016\n",
      " i : 2023\n",
      " i : 2037\n",
      " i : 2044\n",
      " i : 2051\n",
      " i : 2058\n",
      " i : 2072\n",
      " i : 2079\n",
      " i : 2086\n",
      " i : 2093\n",
      " i : 2107\n",
      " i : 2114\n",
      " i : 2121\n",
      " i : 2128\n",
      " i : 2142\n",
      " i : 2149\n",
      " i : 2156\n",
      " i : 2163\n",
      " i : 2177\n",
      " i : 2184\n",
      " i : 2191\n",
      " i : 2198\n",
      " i : 2212\n",
      " i : 2219\n",
      " i : 2226\n",
      " i : 2233\n",
      " i : 2247\n",
      " i : 2254\n",
      " i : 2261\n",
      " i : 2268\n",
      " i : 2282\n",
      " i : 2289\n",
      " i : 2296\n",
      " i : 2303\n",
      " i : 2317\n",
      " i : 2324\n",
      " i : 2331\n",
      " i : 2338\n",
      " i : 2352\n",
      " i : 2359\n",
      " i : 2366\n",
      " i : 2373\n",
      " i : 2387\n",
      " i : 2394\n",
      " i : 2401\n",
      " i : 2408\n",
      " i : 2422\n",
      " i : 2429\n",
      " i : 2436\n",
      " i : 2443\n",
      " i : 2457\n",
      " i : 2464\n",
      " i : 2471\n",
      " i : 2478\n",
      " i : 2492\n",
      " i : 2499\n",
      " i : 2506\n",
      " i : 2513\n",
      " i : 2527\n",
      " i : 2534\n",
      " i : 2541\n",
      " i : 2548\n",
      " i : 2562\n",
      " i : 2569\n",
      " i : 2576\n",
      " i : 2583\n",
      " i : 2597\n",
      " i : 2604\n",
      " i : 2611\n",
      " i : 2618\n",
      " i : 2632\n",
      " i : 2639\n",
      " i : 2646\n",
      " i : 2653\n",
      " i : 2667\n",
      " i : 2674\n",
      " i : 2681\n",
      " i : 2688\n",
      " i : 2702\n",
      " i : 2709\n",
      " i : 2716\n",
      " i : 2723\n",
      " i : 2737\n",
      " i : 2744\n",
      " i : 2751\n",
      " i : 2758\n",
      " i : 2772\n",
      " i : 2779\n",
      " i : 2786\n",
      " i : 2793\n",
      " i : 2807\n",
      " i : 2814\n",
      " i : 2821\n",
      " i : 2828\n",
      " i : 2842\n",
      " i : 2849\n",
      " i : 2856\n",
      " i : 2863\n",
      " i : 2877\n",
      " i : 2884\n",
      " i : 2891\n",
      " i : 2898\n",
      " i : 2912\n",
      " i : 2919\n",
      " i : 2926\n",
      " i : 2933\n",
      " i : 2947\n",
      " i : 2954\n",
      " i : 2961\n",
      " i : 2968\n",
      " i : 2982\n",
      " i : 2989\n",
      " i : 2996\n",
      " i : 3003\n",
      " i : 3017\n",
      " i : 3024\n",
      " i : 3031\n",
      " i : 3038\n",
      " i : 3052\n",
      " i : 3059\n",
      " i : 3066\n",
      " i : 3073\n",
      " i : 3087\n",
      " i : 3094\n",
      " i : 3101\n",
      " i : 3108\n",
      " i : 3122\n",
      " i : 3129\n",
      " i : 3136\n",
      " i : 3143\n",
      " i : 3157\n",
      " i : 3164\n",
      " i : 3171\n",
      " i : 3178\n",
      " i : 3192\n",
      " i : 3199\n"
     ]
    }
   ],
   "source": [
    "for i in range(2000, 3200, 1):\n",
    "    if ((i % 7 == 0)and (i % 5 != 0)):\n",
    "        print(\" i :\" ,i)"
   ]
  },
  {
   "cell_type": "code",
   "execution_count": 27,
   "metadata": {},
   "outputs": [],
   "source": [
    "# 3> Write a Python program to accept the user's first and last name and then getting them printed inthe the reverse order\n",
    "#with a space between first name and last name."
   ]
  },
  {
   "cell_type": "code",
   "execution_count": 26,
   "metadata": {},
   "outputs": [
    {
     "name": "stdout",
     "output_type": "stream",
     "text": [
      "Enter your first namemanish\n",
      "Enter your last nameyadav\n",
      "hsinam vaday\n"
     ]
    }
   ],
   "source": [
    "a = input(\"Enter your first name\")\n",
    "b = input(\"Enter your last name\")\n",
    "a = a[::-1]\n",
    "b  = b[::-1]\n",
    "print(a , b)\n"
   ]
  },
  {
   "cell_type": "code",
   "execution_count": null,
   "metadata": {},
   "outputs": [],
   "source": [
    "#W 4> write a Python program to find the volume of a sphere with diameter 12 cm.Formula: V=4/3 * π * r3"
   ]
  },
  {
   "cell_type": "code",
   "execution_count": 29,
   "metadata": {},
   "outputs": [
    {
     "name": "stdout",
     "output_type": "stream",
     "text": [
      "904.32\n"
     ]
    }
   ],
   "source": [
    "d = 12\n",
    "r = d / 2\n",
    "pi = 3.14\n",
    "V = (4 * pi * r * r * r)/3\n",
    "print(V)"
   ]
  },
  {
   "cell_type": "code",
   "execution_count": null,
   "metadata": {},
   "outputs": [],
   "source": [
    "# Task -2"
   ]
  },
  {
   "cell_type": "code",
   "execution_count": null,
   "metadata": {},
   "outputs": [],
   "source": [
    "# 1> Write a program which accepts a sequence of comma-separated numbers from console and generate a list."
   ]
  },
  {
   "cell_type": "code",
   "execution_count": 39,
   "metadata": {},
   "outputs": [
    {
     "name": "stdout",
     "output_type": "stream",
     "text": [
      "comma seperated :1,8,7,9,5,6,4,3,2\n",
      "List : ['1', '8', '7', '9', '5', '6', '4', '3', '2']\n"
     ]
    }
   ],
   "source": [
    "mani = input(\"comma seperated :\" )\n",
    "mani = mani.split(\",\")\n",
    "print('List :' , mani)"
   ]
  },
  {
   "cell_type": "code",
   "execution_count": null,
   "metadata": {},
   "outputs": [],
   "source": [
    "# 2 >Create the below pattern using nested for loop in Python. \n",
    " \n",
    " \n",
    "* \n",
    "* *\n",
    "* * * \n",
    "* * * * \n",
    "* * * * *\n",
    "* * * * \n",
    "* * * \n",
    "* * \n",
    "* "
   ]
  },
  {
   "cell_type": "code",
   "execution_count": 1,
   "metadata": {},
   "outputs": [
    {
     "name": "stdout",
     "output_type": "stream",
     "text": [
      "*  \n",
      "* *  \n",
      "* * *  \n",
      "* * * *  \n",
      "* * * * *  \n",
      "* * * *  \n",
      "* * *  \n",
      "* *  \n",
      "*  \n",
      " \n"
     ]
    }
   ],
   "source": [
    "for i in range(0, 5):\n",
    "    for j in range(0, i + 1):\n",
    "        print(\"*\", end=' ')\n",
    "    print(\" \")\n",
    "\n",
    "for i in range(5, 0, -1):\n",
    "    for j in range(0, i - 1):\n",
    "        print(\"*\", end=' ')\n",
    "    print(\" \")"
   ]
  },
  {
   "cell_type": "code",
   "execution_count": null,
   "metadata": {},
   "outputs": [],
   "source": []
  },
  {
   "cell_type": "code",
   "execution_count": null,
   "metadata": {},
   "outputs": [],
   "source": [
    "# 3> Write a Python program to reverse a word after accepting the input from the user.Sample Output:\n",
    "# Input word: AcadGildOutput:dilGdacA"
   ]
  },
  {
   "cell_type": "code",
   "execution_count": null,
   "metadata": {},
   "outputs": [],
   "source": []
  },
  {
   "cell_type": "code",
   "execution_count": 42,
   "metadata": {},
   "outputs": [
    {
     "name": "stdout",
     "output_type": "stream",
     "text": [
      "Reverse the value :AcadGil\n",
      "liGdacA\n"
     ]
    }
   ],
   "source": [
    "K = input(\"Reverse the value :\")\n",
    "K = K[::-1]\n",
    "print(K)"
   ]
  },
  {
   "cell_type": "code",
   "execution_count": null,
   "metadata": {},
   "outputs": [],
   "source": [
    "# 4> Write a Python Program to print the given string in the format specified in the ​sample output.WE, THE PEOPLE OF INDIA, having solemnly resolved to constitute India into aSOVEREIGN, SOCIALIST, SECULAR, DEMOCRATIC REPUBLIC\n",
    "#and to secure to allits citizens\n",
    "#output-WE, THE PEOPLE OF INDIA, having solemnly resolved to constitute India into a SOVEREIGN, !SOCIALIST, SECULAR, DEMOCRATIC REPUBLIC \n",
    "#and to secure to all its citizens"
   ]
  },
  {
   "cell_type": "code",
   "execution_count": 43,
   "metadata": {},
   "outputs": [
    {
     "name": "stdout",
     "output_type": "stream",
     "text": [
      "WE, THE PEOPLE OF INDIA,\n",
      "     having solemnly resolved to constitute India into a SOVEREIGN,!  \n",
      "        SOCIALIST, SECULAR, DEMOCRATIC REPUBLIC   \n",
      "         and to secure to all its citizens\n"
     ]
    }
   ],
   "source": [
    "a = \"WE, THE PEOPLE OF INDIA,\"+\"\\n     having solemnly resolved to constitute India into a SOVEREIGN,! \"+\" \\n        SOCIALIST, SECULAR, DEMOCRATIC REPUBLIC\"+\"   \\n         and to secure to all its citizens\"\n",
    "print(a)"
   ]
  },
  {
   "cell_type": "code",
   "execution_count": null,
   "metadata": {},
   "outputs": [],
   "source": []
  }
 ],
 "metadata": {
  "kernelspec": {
   "display_name": "Python 3",
   "language": "python",
   "name": "python3"
  },
  "language_info": {
   "codemirror_mode": {
    "name": "ipython",
    "version": 3
   },
   "file_extension": ".py",
   "mimetype": "text/x-python",
   "name": "python",
   "nbconvert_exporter": "python",
   "pygments_lexer": "ipython3",
   "version": "3.7.6"
  }
 },
 "nbformat": 4,
 "nbformat_minor": 4
}
